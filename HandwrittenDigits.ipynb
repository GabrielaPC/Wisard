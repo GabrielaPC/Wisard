{
 "cells": [
  {
   "cell_type": "markdown",
   "metadata": {},
   "source": [
    "# [Pen-Based Recognition of Handwritten Digits Dataset](https://archive.ics.uci.edu/dataset/81/pen+based+recognition+of+handwritten+digits)"
   ]
  },
  {
   "cell_type": "markdown",
   "metadata": {},
   "source": [
    "Digit database of 250 samples from 44 writers"
   ]
  },
  {
   "cell_type": "markdown",
   "metadata": {},
   "source": [
    "### Estrutura do dataset"
   ]
  },
  {
   "cell_type": "markdown",
   "metadata": {},
   "source": [
    "| Alvo  | Valores |\n",
    "| ------------- | ------------- |\n",
    "|Class| {0,1,2,3,4,5,6,7,8,9}| "
   ]
  },
  {
   "cell_type": "markdown",
   "metadata": {},
   "source": [
    "| Features  |\n",
    "| ------------- |\n",
    "| Attribute1 |\n",
    "| Attribute2 |\n",
    "| Attribute3 |\n",
    "| Attribute4 |\n",
    "| Attribute5 |\n",
    "| Attribute6 |\n",
    "| Attribute7 |\n",
    "| Attribute8 |\n",
    "| Attribute9 |\n",
    "| Attribute10 |\n",
    "| Attribute11 |\n",
    "| Attribute12 |\n",
    "| Attribute13 |\n",
    "| Attribute14 |\n",
    "| Attribute15 |\n",
    "| Attribute16 |"
   ]
  },
  {
   "cell_type": "markdown",
   "metadata": {},
   "source": [
    "### Importação das dependências"
   ]
  },
  {
   "cell_type": "code",
   "execution_count": 2,
   "metadata": {},
   "outputs": [],
   "source": [
    "import pandas as pd\n",
    "\n",
    "import numpy as np\n",
    "\n",
    "from sklearn.model_selection import train_test_split\n",
    "from sklearn.metrics import accuracy_score, precision_score, recall_score, f1_score\n",
    "\n",
    "from ucimlrepo import fetch_ucirepo \n",
    "pd.options.mode.copy_on_write = True\n",
    "\n",
    "import warnings\n",
    "warnings.simplefilter(action='ignore', category=FutureWarning)"
   ]
  },
  {
   "cell_type": "markdown",
   "metadata": {},
   "source": [
    "### Importando o dataset"
   ]
  },
  {
   "cell_type": "code",
   "execution_count": 3,
   "metadata": {},
   "outputs": [],
   "source": [
    "# fetch dataset \n",
    "dataset = fetch_ucirepo(id=81) \n",
    "  \n",
    "# data (as pandas dataframes) \n",
    "X = dataset.data.features \n",
    "Y = dataset.data.targets \n",
    "\n",
    "# Transform labels to int\n",
    "target_class = 'Class'\n",
    "\n",
    "labels = Y[target_class].unique()\n",
    "for i in range(len(labels)):\n",
    "  Y.loc[Y[target_class]==labels[i], target_class] = i"
   ]
  },
  {
   "cell_type": "markdown",
   "metadata": {},
   "source": [
    "### Pré-processamento das features"
   ]
  },
  {
   "cell_type": "code",
   "execution_count": 4,
   "metadata": {},
   "outputs": [],
   "source": [
    "for col in X:\n",
    "    if X[col].dtype != float:\n",
    "        # print(col)\n",
    "        X[col] = X[col].astype(float)"
   ]
  },
  {
   "cell_type": "markdown",
   "metadata": {},
   "source": [
    "### Dividindo os conjuntos de teste e treino"
   ]
  },
  {
   "cell_type": "code",
   "execution_count": 5,
   "metadata": {},
   "outputs": [],
   "source": [
    "x_train, x_test, y_train, y_test = train_test_split(X, Y,test_size= 0.3, random_state = 28)\n",
    "y_true = list(y_test[target_class])"
   ]
  },
  {
   "cell_type": "markdown",
   "metadata": {},
   "source": [
    "### Termômetro"
   ]
  },
  {
   "cell_type": "code",
   "execution_count": 6,
   "metadata": {},
   "outputs": [],
   "source": [
    "from thermometer import Thermometer\n",
    "\n",
    "num_bits = 20\n",
    "features = [x for x in dataset.data.features]\n",
    "\n",
    "term = Thermometer(x_train,num_bits) # Termometro para dados de treinamento\n",
    "term.encode(features)\n",
    "\n",
    "term = Thermometer(x_test,num_bits) # Termometro para dados de test\n",
    "term.encode(features)"
   ]
  },
  {
   "cell_type": "markdown",
   "metadata": {},
   "source": [
    "### Wisard"
   ]
  },
  {
   "cell_type": "code",
   "execution_count": 7,
   "metadata": {},
   "outputs": [],
   "source": [
    "from wisard import Wisard\n",
    "\n",
    "wisard = Wisard(num_classes=len(labels),n=5)"
   ]
  },
  {
   "cell_type": "markdown",
   "metadata": {},
   "source": [
    "### Treinamento"
   ]
  },
  {
   "cell_type": "code",
   "execution_count": 8,
   "metadata": {},
   "outputs": [],
   "source": [
    "wisard.train(x_train,y_train)"
   ]
  },
  {
   "cell_type": "markdown",
   "metadata": {},
   "source": [
    "### Teste"
   ]
  },
  {
   "cell_type": "code",
   "execution_count": 9,
   "metadata": {},
   "outputs": [],
   "source": [
    "predictions = wisard.classify(x_test)\n",
    "# print(predictions)"
   ]
  },
  {
   "cell_type": "code",
   "execution_count": 10,
   "metadata": {},
   "outputs": [
    {
     "name": "stdout",
     "output_type": "stream",
     "text": [
      "Acurácia obtida: 86.36%\n",
      "Precisão obtida: 72.94%\n",
      "Recall obtido: 87.10%\n",
      "F1 Score obtida: 72.43%\n"
     ]
    }
   ],
   "source": [
    "print(f'Acurácia obtida: {accuracy_score(y_true, predictions) * 100:.2f}%')\n",
    "print(f'Precisão obtida: {precision_score(y_true, predictions, average=\"macro\", zero_division=np.nan) * 100:.2f}%')\n",
    "print(f'Recall obtido: {recall_score(y_true, predictions, average=\"macro\", zero_division=np.nan) * 100:.2f}%')\n",
    "print(f'F1 Score obtida: {f1_score(y_true, predictions, average=\"macro\", zero_division=np.nan) * 100:.2f}%')\n"
   ]
  }
 ],
 "metadata": {
  "kernelspec": {
   "display_name": "Python 3",
   "language": "python",
   "name": "python3"
  },
  "language_info": {
   "codemirror_mode": {
    "name": "ipython",
    "version": 3
   },
   "file_extension": ".py",
   "mimetype": "text/x-python",
   "name": "python",
   "nbconvert_exporter": "python",
   "pygments_lexer": "ipython3",
   "version": "3.11.5"
  }
 },
 "nbformat": 4,
 "nbformat_minor": 2
}
