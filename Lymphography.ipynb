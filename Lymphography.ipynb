{
 "cells": [
  {
   "cell_type": "markdown",
   "metadata": {},
   "source": [
    "# [Lymphography Dataset](https://archive.ics.uci.edu/dataset/63/lymphography)"
   ]
  },
  {
   "cell_type": "markdown",
   "metadata": {},
   "source": [
    "This lymphography domain was obtained from the University Medical Centre, Institute of Oncology, Ljubljana, Yugoslavia. "
   ]
  },
  {
   "cell_type": "markdown",
   "metadata": {},
   "source": [
    "### Estrutura do dataset"
   ]
  },
  {
   "cell_type": "markdown",
   "metadata": {},
   "source": [
    "| Alvo  | Valores |\n",
    "| ------------- | ------------- |\n",
    "|class| {normal find, metastases, malign lymph, fibrosis}| "
   ]
  },
  {
   "cell_type": "markdown",
   "metadata": {},
   "source": [
    "| Features  | Valores |\n",
    "| ------------- | ------------- |\n",
    "|lymphatics| { normal, arched, deformed, displaced} |\n",
    "|block of affere| { no, yes} |\n",
    "|bl. of lymph. c| { no, yes} |\n",
    "|bl. of lymph. s| { no, yes} |\n",
    "|by pass| { no, yes} |\n",
    "|extravasates| { no, yes} |\n",
    "|regeneration of| { no, yes} |\n",
    "|early uptake in| { no, yes} |\n",
    "|lym.nodes dimin| { 0-3} |\n",
    "|lym.nodes enlar| { 1-4} |\n",
    "|changes in lym.| { bean, oval, round} |\n",
    "|defect in node| { no, lacunar, lac. marginal, lac. central} |\n",
    "|changes in node| { no, lacunar, lac. margin, lac. central} |\n",
    "|changes in stru| { no, grainy, drop-like, coarse, diluted, reticular, stripped, faint,} |\n",
    "|special forms| { no, chalices, vesicles} |\n",
    "|dislocation of| { no, yes} |\n",
    "|exclusion of no| { no, yes} |\n",
    "|no. of nodes in| { 0-9, 10-19, 20-29, 30-39, 40-49, 50-59, 60-69, >=7} |"
   ]
  },
  {
   "cell_type": "markdown",
   "metadata": {},
   "source": [
    "### Instalação das dependências"
   ]
  },
  {
   "cell_type": "code",
   "execution_count": 36,
   "metadata": {},
   "outputs": [],
   "source": [
    "# !pip install ucimlrepo\n",
    "# !pip install tensorflow\n",
    "# !pip install sklearn\n",
    "# !pip install pandas"
   ]
  },
  {
   "cell_type": "code",
   "execution_count": 37,
   "metadata": {},
   "outputs": [],
   "source": [
    "import tensorflow as tf\n",
    "from tensorflow.keras.utils import to_categorical\n",
    "from tensorflow.keras.layers import Flatten, Dense\n",
    "\n",
    "import pandas as pd\n",
    "\n",
    "import numpy as np\n",
    "\n",
    "from sklearn.model_selection import train_test_split\n",
    "from sklearn.metrics import accuracy_score, precision_score, recall_score, f1_score\n",
    "from sklearn.preprocessing import LabelEncoder\n",
    "\n",
    "from ucimlrepo import fetch_ucirepo \n",
    "pd.options.mode.copy_on_write = True"
   ]
  },
  {
   "cell_type": "code",
   "execution_count": 38,
   "metadata": {},
   "outputs": [],
   "source": [
    "import tensorflow as tf\n",
    "from tensorflow.keras.utils import to_categorical\n",
    "from tensorflow.keras.layers import Flatten, Dense, Dropout\n",
    "\n",
    "import pandas as pd\n",
    "\n",
    "import numpy as np\n",
    "\n",
    "from sklearn.model_selection import train_test_split\n",
    "from sklearn.metrics import accuracy_score, precision_score, recall_score, f1_score\n",
    "from sklearn.preprocessing import LabelEncoder\n",
    "\n",
    "from ucimlrepo import fetch_ucirepo \n",
    "pd.options.mode.copy_on_write = True"
   ]
  },
  {
   "cell_type": "markdown",
   "metadata": {},
   "source": [
    "### Importando o dataset"
   ]
  },
  {
   "cell_type": "code",
   "execution_count": 39,
   "metadata": {},
   "outputs": [],
   "source": [
    "# fetch dataset \n",
    "dataset = fetch_ucirepo(id=63) \n",
    "  \n",
    "# data (as pandas dataframes) \n",
    "X = dataset.data.features \n",
    "Y = dataset.data.targets \n",
    "\n",
    "# Transform labels to int\n",
    "labels = Y[\"class\"].unique()\n",
    "for i in range(len(labels)):\n",
    "  Y.loc[Y['class']==labels[i], 'class'] = i\n"
   ]
  },
  {
   "cell_type": "markdown",
   "metadata": {},
   "source": [
    "### One-hot Encoding das features"
   ]
  },
  {
   "cell_type": "code",
   "execution_count": 40,
   "metadata": {},
   "outputs": [],
   "source": [
    "cat_fatures = [feature for feature in dataset.data.features]"
   ]
  },
  {
   "cell_type": "code",
   "execution_count": 41,
   "metadata": {},
   "outputs": [],
   "source": [
    "X = pd.get_dummies(X,columns=cat_fatures, dtype=int)"
   ]
  },
  {
   "cell_type": "markdown",
   "metadata": {},
   "source": [
    "### Dividindo os conjuntos de teste e treino"
   ]
  },
  {
   "cell_type": "code",
   "execution_count": 42,
   "metadata": {},
   "outputs": [],
   "source": [
    "x_train, x_test, y_train, y_test = train_test_split(X, Y,test_size= 0.3, random_state = 28)\n",
    "y_true = list(y_test['class'])"
   ]
  },
  {
   "cell_type": "markdown",
   "metadata": {},
   "source": [
    "### Wisard"
   ]
  },
  {
   "cell_type": "code",
   "execution_count": 43,
   "metadata": {},
   "outputs": [],
   "source": [
    "from wisard import Wisard\n",
    "\n",
    "wisard = Wisard(num_classes=len(labels),n=3)"
   ]
  },
  {
   "cell_type": "markdown",
   "metadata": {},
   "source": [
    "### Treinamento"
   ]
  },
  {
   "cell_type": "code",
   "execution_count": 44,
   "metadata": {},
   "outputs": [],
   "source": [
    "wisard.train(x_train,y_train)"
   ]
  },
  {
   "cell_type": "markdown",
   "metadata": {},
   "source": [
    "### Teste"
   ]
  },
  {
   "cell_type": "code",
   "execution_count": 45,
   "metadata": {},
   "outputs": [],
   "source": [
    "predictions = wisard.classify(x_test)\n",
    "# print(predictions)"
   ]
  },
  {
   "cell_type": "code",
   "execution_count": 46,
   "metadata": {},
   "outputs": [
    {
     "name": "stdout",
     "output_type": "stream",
     "text": [
      "Acurácia obtida: 80.00%\n",
      "Precisão obtida: 86.74%\n",
      "Recall obtido: 70.85%\n",
      "F1 Score obtida: 75.84%\n"
     ]
    }
   ],
   "source": [
    "acc = round(accuracy_score(y_true, predictions) * 100, 2)\n",
    "print(f'Acurácia obtida: {acc:.2f}%')\n",
    "\n",
    "prec = round(precision_score(y_true, predictions, average=\"macro\", zero_division=np.nan) * 100, 2)\n",
    "print(f'Precisão obtida: {prec:.2f}%')\n",
    "\n",
    "recall = round(recall_score(y_true, predictions, average=\"macro\") * 100, 2)\n",
    "print(f'Recall obtido: {recall:.2f}%')\n",
    "\n",
    "f1 = round(f1_score(y_true, predictions, average=\"macro\") * 100, 2)\n",
    "print(f'F1 Score obtida: {f1:.2f}%')\n"
   ]
  },
  {
   "cell_type": "markdown",
   "metadata": {},
   "source": [
    "### Comparação com o MLP(Primeiro Trabalho)"
   ]
  },
  {
   "cell_type": "code",
   "execution_count": 47,
   "metadata": {},
   "outputs": [
    {
     "data": {
      "image/png": "[encoded data removed]",
      "text/plain": [
       "<Figure size 640x480 with 1 Axes>"
      ]
     },
     "metadata": {},
     "output_type": "display_data"
    }
   ],
   "source": [
    "\n",
    "import matplotlib.pyplot as plt\n",
    "import numpy as np\n",
    "\n",
    "measurements = (\"Acurácia\", \"Precisão\", \"Recall\", \"F1\")\n",
    "methods = {\n",
    "    'Wisard': (acc, prec, recall, f1),\n",
    "    'MLP': (80.00, 86.36, 71.13, 75.77), # Resultados obtidos em: https://github.com/GabrielaPC/MultiLayerPerceptron \n",
    "}\n",
    "\n",
    "x = np.arange(len(measurements))  # the label locations\n",
    "width = 0.25  # the width of the bars\n",
    "multiplier = 0\n",
    "\n",
    "fig, ax = plt.subplots(layout='constrained')\n",
    "\n",
    "for attribute, measurement in methods.items():\n",
    "    if attribute == 'Wisard':\n",
    "        color = \"tab:green\"\n",
    "    else:\n",
    "        color = \"tab:red\"\n",
    "\n",
    "    offset = width * multiplier\n",
    "    rects = ax.bar(x + offset, measurement, width, label=attribute, color=color)\n",
    "    ax.bar_label(rects, padding=3)\n",
    "    multiplier += 1\n",
    "\n",
    "# Add some text for labels, title and custom x-axis tick labels, etc.\n",
    "ax.set_ylabel('Porcentagem (%)')\n",
    "ax.set_title('Resultados encontrados por cada método')\n",
    "ax.set_xticks(x + width/2, measurements)\n",
    "ax.legend(loc='lower left', ncols=3)\n",
    "ax.set_ylim(20, 100)\n",
    "\n",
    "plt.show()"
   ]
  }
 ],
 "metadata": {
  "kernelspec": {
   "display_name": "Python 3",
   "language": "python",
   "name": "python3"
  },
  "language_info": {
   "codemirror_mode": {
    "name": "ipython",
    "version": 3
   },
   "file_extension": ".py",
   "mimetype": "text/x-python",
   "name": "python",
   "nbconvert_exporter": "python",
   "pygments_lexer": "ipython3",
   "version": "3.11.5"
  }
 },
 "nbformat": 4,
 "nbformat_minor": 2
}
