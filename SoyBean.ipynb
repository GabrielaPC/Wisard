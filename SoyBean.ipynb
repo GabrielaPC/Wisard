{
 "cells": [
  {
   "cell_type": "markdown",
   "metadata": {},
   "source": [
    "# [Soy Bean Desease (Large) Dataset](https://archive.ics.uci.edu/dataset/90/soybean+large)"
   ]
  },
  {
   "cell_type": "markdown",
   "metadata": {},
   "source": [
    "Michalski's famous soybean disease database"
   ]
  },
  {
   "cell_type": "markdown",
   "metadata": {},
   "source": [
    "### Estrutura do dataset"
   ]
  },
  {
   "cell_type": "markdown",
   "metadata": {},
   "source": [
    "| Alvo  | Valores |\n",
    "| ------------- | ------------- |\n",
    "|class| {diaporthe-stem-canker, charcoal-rot, rhizoctonia-root-rot, phytophthora-rot, brown-stem-rot, powdery-mildew, downy-mildew, brown-spot, bacterial-blight, bacterial-pustule, purple-seed-stain, anthracnose, phyllosticta-leaf-spot, alternarialeaf-spot, frog-eye-leaf-spot, diaporthe-pod-&-stem-blight, cyst-nematode, 2-4-d-injury, herbicide-injury}|"
   ]
  },
  {
   "cell_type": "markdown",
   "metadata": {},
   "source": [
    "| Features  | Valores |\n",
    "| ------------- | ------------- |\n",
    "|date| {6.0, 4.0, 3.0, 5.0, 1.0, 0.0, 2.0, nan, }| \n",
    "|plant-stand| {0.0, 1.0, nan, }| \n",
    "|precip| {2.0, 0.0, 1.0, nan, }| \n",
    "|temp| {1.0, 2.0, 0.0, nan, }| \n",
    "|hail| {0.0, 1.0, nan, }| \n",
    "|crop-hist| {1.0, 2.0, 3.0, 0.0, nan, }| \n",
    "|area-damaged| {1.0, 0.0, 3.0, 2.0, nan, }| \n",
    "|severity| {1.0, 2.0, nan, 0.0, }| \n",
    "|seed-tmt| {0.0, 1.0, nan, 2.0, }| \n",
    "|germination| {0.0, 1.0, 2.0, nan, }| \n",
    "|plant-growth| {1.0, 0.0, nan, }| \n",
    "|leaves| {1, 0, }| \n",
    "|leafspots-halo| {0.0, nan, 2.0, 1.0, }| \n",
    "|leafspots-marg| {2.0, nan, 0.0, 1.0, }| \n",
    "|leafspot-size| {2.0, nan, 1.0, 0.0, }| \n",
    "|leaf-shread| {0.0, nan, 1.0, }| \n",
    "|leaf-malf| {0.0, nan, 1.0, }| \n",
    "|leaf-mild| {0.0, nan, 1.0, 2.0, }| \n",
    "|stem| {1.0, 0.0, nan, }| \n",
    "|lodging| {1.0, 0.0, nan, }| \n",
    "|stem-cankers| {3.0, 0.0, 1.0, 2.0, nan, }| \n",
    "|canker-lesion| {1.0, 0.0, 3.0, 2.0, nan, }| \n",
    "|fruiting-bodies| {1.0, 0.0, nan, }| \n",
    "|external-decay| {1.0, 0.0, nan, }| \n",
    "|mycelium| {0.0, 1.0, nan, }| \n",
    "|int-discolor| {0.0, 2.0, 1.0, nan, }| \n",
    "|sclerotia| {0.0, 1.0, nan, }| \n",
    "|fruit-pods| {0.0, 3.0, nan, 1.0, 2.0, }| \n",
    "|fruit-spots| {4.0, nan, 0.0, 1.0, 2.0, }| \n",
    "|seed| {0.0, nan, 1.0, }| \n",
    "|mold-growth| {0.0, nan, 1.0, }| \n",
    "|seed-discolor| {0.0, nan, 1.0, }| \n",
    "|seed-size| {0.0, nan, 1.0, }| \n",
    "|shriveling| {0.0, nan, 1.0, }| \n",
    "|roots| {0.0, 1.0, 2.0, nan, }| "
   ]
  },
  {
   "cell_type": "markdown",
   "metadata": {},
   "source": [
    "### Instalação das dependências"
   ]
  },
  {
   "cell_type": "code",
   "execution_count": 1,
   "metadata": {},
   "outputs": [],
   "source": [
    "# !pip install ucimlrepo\n",
    "# !pip install tensorflow\n",
    "# !pip install sklearn\n",
    "# !pip install pandas\n",
    "# !pip install numpy"
   ]
  },
  {
   "cell_type": "code",
   "execution_count": 2,
   "metadata": {},
   "outputs": [],
   "source": [
    "import tensorflow as tf\n",
    "from tensorflow.keras.utils import to_categorical\n",
    "from tensorflow.keras.layers import Flatten, Dense\n",
    "\n",
    "import pandas as pd\n",
    "\n",
    "import numpy as np\n",
    "\n",
    "from sklearn.model_selection import train_test_split\n",
    "from sklearn.metrics import accuracy_score, precision_score, recall_score, f1_score\n",
    "from sklearn.preprocessing import LabelEncoder\n",
    "\n",
    "from ucimlrepo import fetch_ucirepo \n",
    "pd.options.mode.copy_on_write = True"
   ]
  },
  {
   "cell_type": "markdown",
   "metadata": {},
   "source": [
    "### Importando o dataset"
   ]
  },
  {
   "cell_type": "code",
   "execution_count": 3,
   "metadata": {},
   "outputs": [],
   "source": [
    "# fetch dataset \n",
    "dataset = fetch_ucirepo(id=90) \n",
    "  \n",
    "# data (as pandas dataframes) \n",
    "X = dataset.data.features \n",
    "Y = dataset.data.targets \n",
    "\n",
    "# Transform labels to int\n",
    "labels = Y[\"class\"].unique()\n",
    "for i in range(len(labels)):\n",
    "  Y.loc[Y['class']==labels[i], 'class'] = i\n"
   ]
  },
  {
   "cell_type": "markdown",
   "metadata": {},
   "source": [
    "### One-hot Encoding das features"
   ]
  },
  {
   "cell_type": "code",
   "execution_count": 4,
   "metadata": {},
   "outputs": [],
   "source": [
    "cat_fatures = []\n",
    "for feature in dataset.data.features:\n",
    "    #print(feature)\n",
    "    feature_info = dataset.variables.loc[dataset.variables[\"name\"] == feature]\n",
    "    if feature_info.type.values[0] == \"Categorical\":\n",
    "        cat_fatures.append(feature)\n"
   ]
  },
  {
   "cell_type": "code",
   "execution_count": 5,
   "metadata": {},
   "outputs": [],
   "source": [
    "X = pd.get_dummies(X,columns=cat_fatures, dtype=int)"
   ]
  },
  {
   "cell_type": "markdown",
   "metadata": {},
   "source": [
    "### Dividindo os conjuntos de teste e treino"
   ]
  },
  {
   "cell_type": "code",
   "execution_count": 6,
   "metadata": {},
   "outputs": [],
   "source": [
    "x_train, x_test, y_train, y_test = train_test_split(X, Y,test_size= 0.3, random_state = 42)\n",
    "y_true = list(y_test['class'])"
   ]
  },
  {
   "cell_type": "markdown",
   "metadata": {},
   "source": [
    "### Wisard"
   ]
  },
  {
   "cell_type": "code",
   "execution_count": 7,
   "metadata": {},
   "outputs": [],
   "source": [
    "from wisard import Wisard\n",
    "\n",
    "wisard = Wisard(num_classes=len(labels),n=8)"
   ]
  },
  {
   "cell_type": "markdown",
   "metadata": {},
   "source": [
    "### Treinamento"
   ]
  },
  {
   "cell_type": "code",
   "execution_count": 8,
   "metadata": {},
   "outputs": [],
   "source": [
    "wisard.train(x_train,y_train)"
   ]
  },
  {
   "cell_type": "markdown",
   "metadata": {},
   "source": [
    "### Teste"
   ]
  },
  {
   "cell_type": "code",
   "execution_count": 36,
   "metadata": {},
   "outputs": [],
   "source": [
    "predictions = wisard.classify(x_test)\n",
    "# print(predictions)"
   ]
  },
  {
   "cell_type": "code",
   "execution_count": 26,
   "metadata": {},
   "outputs": [
    {
     "name": "stdout",
     "output_type": "stream",
     "text": [
      "Acurácia obtida: 86.02%\n",
      "Precisão obtida: 92.39%\n",
      "Recall obtido: 85.21%\n",
      "F1 Score obtida: 84.92%\n"
     ]
    }
   ],
   "source": [
    "acc = round(accuracy_score(y_true, predictions) * 100, 2)\n",
    "print(f'Acurácia obtida: {acc:.2f}%')\n",
    "\n",
    "prec = round(precision_score(y_true, predictions, average=\"macro\", zero_division=np.nan) * 100, 2)\n",
    "print(f'Precisão obtida: {prec:.2f}%')\n",
    "\n",
    "recall = round(recall_score(y_true, predictions, average=\"macro\") * 100, 2)\n",
    "print(f'Recall obtido: {recall:.2f}%')\n",
    "\n",
    "f1 = round(f1_score(y_true, predictions, average=\"macro\") * 100, 2)\n",
    "print(f'F1 Score obtida: {f1:.2f}%')\n"
   ]
  },
  {
   "cell_type": "markdown",
   "metadata": {},
   "source": [
    "### Comparação com o MLP(Primeiro Trabalho)"
   ]
  },
  {
   "cell_type": "code",
   "execution_count": 37,
   "metadata": {},
   "outputs": [
    {
     "data": {
      "image/png": "[encoded data removed]",
      "text/plain": [
       "<Figure size 640x480 with 1 Axes>"
      ]
     },
     "metadata": {},
     "output_type": "display_data"
    }
   ],
   "source": [
    "import matplotlib.pyplot as plt\n",
    "\n",
    "measurements = (\"Acurácia\", \"Precisão\", \"Recall\", \"F1\")\n",
    "methods = {\n",
    "    'Wisard': (acc, prec, recall, f1),\n",
    "    'MLP': (90.32, 95.71, 87.80, 88.49), # Resultados obtidos em: https://github.com/GabrielaPC/MultiLayerPerceptron \n",
    "}\n",
    "\n",
    "x = np.arange(len(measurements))  # the label locations\n",
    "width = 0.25  # the width of the bars\n",
    "multiplier = 0\n",
    "\n",
    "fig, ax = plt.subplots(layout='constrained')\n",
    "\n",
    "for attribute, measurement in methods.items():\n",
    "    if attribute == 'Wisard':\n",
    "        color = \"tab:green\"\n",
    "    else:\n",
    "        color = \"tab:red\"\n",
    "\n",
    "    offset = width * multiplier\n",
    "    rects = ax.bar(x + offset, measurement, width, label=attribute, color=color)\n",
    "    ax.bar_label(rects, padding=3)\n",
    "    multiplier += 1\n",
    "\n",
    "# Add some text for labels, title and custom x-axis tick labels, etc.\n",
    "ax.set_ylabel('Porcentagem (%)')\n",
    "ax.set_title('Resultados encontrados por cada método')\n",
    "ax.set_xticks(x + width/2, measurements)\n",
    "ax.legend(loc='upper left', ncols=3)\n",
    "ax.set_ylim(50, 100)\n",
    "\n",
    "plt.show()"
   ]
  }
 ],
 "metadata": {
  "kernelspec": {
   "display_name": "Python 3",
   "language": "python",
   "name": "python3"
  },
  "language_info": {
   "codemirror_mode": {
    "name": "ipython",
    "version": 3
   },
   "file_extension": ".py",
   "mimetype": "text/x-python",
   "name": "python",
   "nbconvert_exporter": "python",
   "pygments_lexer": "ipython3",
   "version": "3.11.5"
  }
 },
 "nbformat": 4,
 "nbformat_minor": 2
}
