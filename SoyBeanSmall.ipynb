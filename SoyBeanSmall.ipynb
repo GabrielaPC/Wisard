{
 "cells": [
  {
   "cell_type": "markdown",
   "metadata": {},
   "source": [
    "# [Soy Bean Desease (Small) Dataset](https://archive.ics.uci.edu/dataset/91/soybean+small)"
   ]
  },
  {
   "cell_type": "markdown",
   "metadata": {},
   "source": [
    "A small subset of Michalski's famous soybean disease database"
   ]
  },
  {
   "cell_type": "markdown",
   "metadata": {},
   "source": [
    "### Estrutura do dataset"
   ]
  },
  {
   "cell_type": "markdown",
   "metadata": {},
   "source": [
    "| Alvo  | Valores |\n",
    "| ------------- | ------------- |\n",
    "|class| {D1, D2, D3, D4, }| "
   ]
  },
  {
   "cell_type": "markdown",
   "metadata": {},
   "source": [
    "| Features  | Valores |\n",
    "| ------------- | ------------- |\n",
    "|date| {4, 5, 3, 6, 0, 2, 1, }| \n",
    "|plant-stand| {0, 1, }| \n",
    "|precip| {2, 0, 1, }| \n",
    "|temp| {1, 2, 0, }| \n",
    "|hail| {1, 0, }| \n",
    "|crop-hist| {1, 3, 2, 0, }| \n",
    "|area-damaged| {0, 1, 2, 3, }| \n",
    "|severity| {1, 2, }| \n",
    "|seed-tmt| {0, 1, }| \n",
    "|germination| {2, 1, 0, }| \n",
    "|plant-growth| {1, }| \n",
    "|leaves| {1, 0, }| \n",
    "|leafspots-halo| {0, }| \n",
    "|leafspots-marg| {2, }| \n",
    "|leafspot-size| {2, }| \n",
    "|leaf-shread| {0, }| \n",
    "|leaf-malf| {0, }| \n",
    "|leaf-mild| {0, }| \n",
    "|stem| {1, }| \n",
    "|lodging| {0, 1, }| \n",
    "|stem-cankers| {3, 0, 1, 2, }| \n",
    "|canker-lesion| {1, 0, 3, 2, }| \n",
    "|fruiting-bodies| {1, 0, }| \n",
    "|external-decay| {1, 0, }| \n",
    "|mycelium| {0, 1, }| \n",
    "|int-discolor| {0, 2, }| \n",
    "|sclerotia| {0, 1, }| \n",
    "|fruit-pods| {0, 3, }| \n",
    "|fruit-spots| {4, }| \n",
    "|seed| {0, }| \n",
    "|mold-growth| {0, }| \n",
    "|seed-discolor| {0, }| \n",
    "|seed-size| {0, }| \n",
    "|shriveling| {0, }| \n",
    "|roots| {0, 1, }| "
   ]
  },
  {
   "cell_type": "markdown",
   "metadata": {},
   "source": [
    "### Instalação das dependências"
   ]
  },
  {
   "cell_type": "code",
   "execution_count": 62,
   "metadata": {},
   "outputs": [],
   "source": [
    "import tensorflow as tf\n",
    "from tensorflow.keras.utils import to_categorical\n",
    "from tensorflow.keras.layers import Flatten, Dense\n",
    "\n",
    "import pandas as pd\n",
    "import numpy as np\n",
    "\n",
    "from sklearn.model_selection import train_test_split\n",
    "from sklearn.metrics import accuracy_score, precision_score, recall_score, f1_score\n",
    "from sklearn.preprocessing import LabelEncoder\n",
    "\n",
    "from ucimlrepo import fetch_ucirepo \n",
    "pd.options.mode.copy_on_write = True"
   ]
  },
  {
   "cell_type": "markdown",
   "metadata": {},
   "source": [
    "### Importando o dataset"
   ]
  },
  {
   "cell_type": "code",
   "execution_count": 63,
   "metadata": {},
   "outputs": [],
   "source": [
    "# fetch dataset \n",
    "dataset = fetch_ucirepo(id=91) \n",
    "  \n",
    "# data (as pandas dataframes) \n",
    "X = dataset.data.features \n",
    "Y = dataset.data.targets \n",
    "\n",
    "# Transform labels to int\n",
    "labels = Y[\"class\"].unique()\n",
    "for i in range(len(labels)):\n",
    "  Y.loc[Y['class']==labels[i], 'class'] = i\n"
   ]
  },
  {
   "cell_type": "markdown",
   "metadata": {},
   "source": [
    "### One-hot Encoding das features"
   ]
  },
  {
   "cell_type": "code",
   "execution_count": 64,
   "metadata": {},
   "outputs": [],
   "source": [
    "cat_fatures = []\n",
    "for feature in dataset.data.features:\n",
    "    #print(feature)\n",
    "    feature_info = dataset.variables.loc[dataset.variables[\"name\"] == feature]\n",
    "    if feature_info.type.values[0] == \"Categorical\":\n",
    "        cat_fatures.append(feature)\n"
   ]
  },
  {
   "cell_type": "code",
   "execution_count": 65,
   "metadata": {},
   "outputs": [],
   "source": [
    "X = pd.get_dummies(X,columns=cat_fatures, dtype=int)"
   ]
  },
  {
   "cell_type": "markdown",
   "metadata": {},
   "source": [
    "### Dividindo os conjuntos de teste e treino"
   ]
  },
  {
   "cell_type": "code",
   "execution_count": 66,
   "metadata": {},
   "outputs": [],
   "source": [
    "x_train, x_test, y_train, y_test = train_test_split(X, Y,test_size= 0.3, random_state = 28)\n",
    "y_true = list(y_test['class'])"
   ]
  },
  {
   "cell_type": "markdown",
   "metadata": {},
   "source": [
    "### Wisard"
   ]
  },
  {
   "cell_type": "code",
   "execution_count": 67,
   "metadata": {},
   "outputs": [],
   "source": [
    "from wisard import Wisard\n",
    "\n",
    "wisard = Wisard(num_classes=len(labels),n=6)"
   ]
  },
  {
   "cell_type": "markdown",
   "metadata": {},
   "source": [
    "### Treinamento"
   ]
  },
  {
   "cell_type": "code",
   "execution_count": 68,
   "metadata": {},
   "outputs": [],
   "source": [
    "wisard.train(x_train,y_train)"
   ]
  },
  {
   "cell_type": "markdown",
   "metadata": {},
   "source": [
    "### Teste"
   ]
  },
  {
   "cell_type": "code",
   "execution_count": 69,
   "metadata": {},
   "outputs": [],
   "source": [
    "predictions = wisard.classify(x_test)\n",
    "# print(predictions)"
   ]
  },
  {
   "cell_type": "code",
   "execution_count": 70,
   "metadata": {},
   "outputs": [
    {
     "name": "stdout",
     "output_type": "stream",
     "text": [
      "Acurácia obtida: 80.00%\n",
      "Precisão obtida: 80.36%\n",
      "Recall obtido: 85.00%\n",
      "F1 Score obtida: 76.79%\n"
     ]
    }
   ],
   "source": [
    "acc = round(accuracy_score(y_true, predictions) * 100, 2)\n",
    "print(f'Acurácia obtida: {acc:.2f}%')\n",
    "\n",
    "prec = round(precision_score(y_true, predictions, average=\"macro\", zero_division=np.nan) * 100, 2)\n",
    "print(f'Precisão obtida: {prec:.2f}%')\n",
    "\n",
    "recall = round(recall_score(y_true, predictions, average=\"macro\") * 100, 2)\n",
    "print(f'Recall obtido: {recall:.2f}%')\n",
    "\n",
    "f1 = round(f1_score(y_true, predictions, average=\"macro\") * 100, 2)\n",
    "print(f'F1 Score obtida: {f1:.2f}%')\n"
   ]
  },
  {
   "cell_type": "markdown",
   "metadata": {},
   "source": [
    "### Comparação com o MLP(Primeiro Trabalho)"
   ]
  },
  {
   "cell_type": "code",
   "execution_count": 74,
   "metadata": {},
   "outputs": [
    {
     "data": {
      "image/png": "[encoded data removed]",
      "text/plain": [
       "<Figure size 640x480 with 1 Axes>"
      ]
     },
     "metadata": {},
     "output_type": "display_data"
    }
   ],
   "source": [
    "\n",
    "import matplotlib.pyplot as plt\n",
    "import numpy as np\n",
    "\n",
    "measurements = (\"Acurácia\", \"Precisão\", \"Recall\", \"F1\")\n",
    "methods = {\n",
    "    'Wisard': (acc, prec, recall, f1),\n",
    "    'MLP': (100, 100, 100, 100), # Resultados obtidos em: https://github.com/GabrielaPC/MultiLayerPerceptron \n",
    "}\n",
    "\n",
    "x = np.arange(len(measurements))  # the label locations\n",
    "width = 0.25  # the width of the bars\n",
    "multiplier = 0\n",
    "\n",
    "fig, ax = plt.subplots(layout='constrained')\n",
    "\n",
    "for attribute, measurement in methods.items():\n",
    "    if attribute == 'Wisard':\n",
    "        color = \"tab:green\"\n",
    "    else:\n",
    "        color = \"tab:red\"\n",
    "\n",
    "    offset = width * multiplier\n",
    "    rects = ax.bar(x + offset, measurement, width, label=attribute, color=color)\n",
    "    ax.bar_label(rects, padding=3)\n",
    "    multiplier += 1\n",
    "\n",
    "# Add some text for labels, title and custom x-axis tick labels, etc.\n",
    "ax.set_ylabel('Porcentagem (%)')\n",
    "ax.set_title('Resultados encontrados por cada método')\n",
    "ax.set_xticks(x + width/2, measurements)\n",
    "ax.legend(loc='lower left', ncols=3)\n",
    "ax.set_ylim(20, 110)\n",
    "\n",
    "plt.show()"
   ]
  }
 ],
 "metadata": {
  "kernelspec": {
   "display_name": "Python 3",
   "language": "python",
   "name": "python3"
  },
  "language_info": {
   "codemirror_mode": {
    "name": "ipython",
    "version": 3
   },
   "file_extension": ".py",
   "mimetype": "text/x-python",
   "name": "python",
   "nbconvert_exporter": "python",
   "pygments_lexer": "ipython3",
   "version": "3.11.5"
  }
 },
 "nbformat": 4,
 "nbformat_minor": 2
}
